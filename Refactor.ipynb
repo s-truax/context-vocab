{
 "cells": [
  {
   "cell_type": "code",
   "execution_count": 69,
   "id": "80fcb126-536f-49c1-ad1a-93121905ac16",
   "metadata": {},
   "outputs": [],
   "source": [
    "# need this import so Term and Sentence\n",
    "# can talk about each other\n",
    "from __future__ import annotations\n",
    "\n",
    "from typing import NamedTuple\n",
    "import csv\n",
    "import pprint"
   ]
  },
  {
   "cell_type": "code",
   "execution_count": 84,
   "id": "f98a121a-39f8-4c42-8548-7d5c1431efd8",
   "metadata": {},
   "outputs": [],
   "source": [
    "class Term(NamedTuple):\n",
    "    \"\"\"This basically represents all the data needed\n",
    "    to generate an Anki flaschard for one word / phrase\n",
    "    in the target language\n",
    "    \"\"\"\n",
    "    text: str  # the word / phrase in the target language.\n",
    "    translation: str  # the English translation of the word / phrase.\n",
    "    sentence_ids: list[str]  # list of Tatoeba sentence ids for\n",
    "                             # the example sentences that go with this term.\n",
    "                             # This should maybe be a list of ints instead of strs.\n",
    "    sentences: list[Sentence]  # Objects representing the example sentences.\n",
    "\n",
    "class Sentence(NamedTuple):\n",
    "    tatoeba_id: str  # Tatoeba sentence id for this sentence.\n",
    "                     # Should maybe be a str.\n",
    "    text: str  # The text of the sentence.\n",
    "    translations: list[str] | None  # English translations of this sentence.\n",
    "                                    # Not all sentences will have translations,\n",
    "                                    # so this value could be None.\n",
    "    audio_id: str | None  # Tatoeba audio id for this sentence. Not all\n",
    "                   # sentences will have audios. If there is no\n",
    "                   # audio, this will be None. This should maybe be an int.\n",
    "    parent_term: Term  # A reference to the vocab term that this sentence\n",
    "                       # serves as an example for. This is useful in the\n",
    "                       # data generation part."
   ]
  },
  {
   "cell_type": "code",
   "execution_count": 85,
   "id": "c319bfbf-2fd6-49db-b766-8860451e06d5",
   "metadata": {},
   "outputs": [],
   "source": [
    "def process_tsv(process_fn, filepath_str, encoding='utf-8-sig'):\n",
    "    \"\"\"Call ROW_FN on each row of a TSV file\"\"\"\n",
    "    with open(filepath_str, newline='', encoding=encoding) as f:\n",
    "        reader = csv.reader(f, delimiter='\\t')\n",
    "        return process_fn(reader)"
   ]
  },
  {
   "cell_type": "code",
   "execution_count": 86,
   "id": "7b5ae747-7c9c-4e26-aecb-52a1f3e5207c",
   "metadata": {},
   "outputs": [],
   "source": [
    "def process_vocab_list(tsv_reader, skip_header=True):\n",
    "    terms = []\n",
    "    header = next(tsv_reader)\n",
    "    for row in tsv_reader:\n",
    "        word_de, word_en = row[:2]\n",
    "        sentence_ids = [s for s in row[2:] if s]\n",
    "        one_term = Term(word_de, word_en, sentence_ids, [])\n",
    "        terms.append(one_term)\n",
    "    return terms"
   ]
  },
  {
   "cell_type": "code",
   "execution_count": 87,
   "id": "725c4b51-d3dd-4efb-aa49-bd288f7a6ad1",
   "metadata": {},
   "outputs": [],
   "source": [
    "vocab_list_file = './NW_7_Days-and-times - Tageszeiten.tsv'\n",
    "terms = process_tsv(process_vocab_list, vocab_list_file)"
   ]
  },
  {
   "cell_type": "code",
   "execution_count": 88,
   "id": "2e9279b0-2eee-47e7-a234-c273cb348c49",
   "metadata": {},
   "outputs": [
    {
     "data": {
      "text/plain": [
       "[Term(text='der Abend, die Abende', translation='evening', sentence_ids=['998'], sentences=[]),\n",
       " Term(text='das Abendessen, die Abendessen', translation='dinner', sentence_ids=['341418'], sentences=[]),\n",
       " Term(text='am Morgen', translation='in the morning', sentence_ids=['347433'], sentences=[]),\n",
       " Term(text='jemanden an|rufen', translation='to call someone', sentence_ids=['873078'], sentences=[]),\n",
       " Term(text='def Apfel, die Äpfel', translation='apple', sentence_ids=['367095'], sentences=[]),\n",
       " Term(text='etwas auf|räumen', translation='to clean up something; to tidy up something', sentence_ids=['618818'], sentences=[]),\n",
       " Term(text='aus|gehen', translation='to go out', sentence_ids=['882822'], sentences=[]),\n",
       " Term(text='auf|stehen', translation='to get up', sentence_ids=['365619'], sentences=[]),\n",
       " Term(text='etwas ein|kaufen', translation='to buy/shop for something', sentence_ids=['3567432'], sentences=[]),\n",
       " Term(text='fast immer', translation='almost always', sentence_ids=['2571282'], sentences=[]),\n",
       " Term(text='die Flöte, die Flöten', translation='flute', sentence_ids=['11932738'], sentences=[]),\n",
       " Term(text='das Frühstück, die Frühstücke', translation='breakfast', sentence_ids=['450713'], sentences=[]),\n",
       " Term(text='frühstücken', translation='to eat breakfast', sentence_ids=['470147'], sentences=[]),\n",
       " Term(text='das Gemüse', translation='vegetables', sentence_ids=['8320425'], sentences=[]),\n",
       " Term(text='jeden Tag', translation='every day', sentence_ids=['784324'], sentences=[]),\n",
       " Term(text='manchmal', translation='sometimes', sentence_ids=['917600'], sentences=[]),\n",
       " Term(text='meistens', translation='most of the time', sentence_ids=['365619'], sentences=[]),\n",
       " Term(text='das Mittagessen, die Mittagessen', translation='lunch', sentence_ids=['10513933'], sentences=[]),\n",
       " Term(text='der Morgen, die Morgen', translation='morning', sentence_ids=['1012'], sentences=[]),\n",
       " Term(text='das Müsli, die Müslis', translation='granola', sentence_ids=['10919429'], sentences=[]),\n",
       " Term(text='der Nachmittag, die Nachmittage', translation='afternoon', sentence_ids=['989712', '1807249'], sentences=[]),\n",
       " Term(text='die Nacht, die Näche', translation='night', sentence_ids=['445863'], sentences=[]),\n",
       " Term(text='nie', translation='never', sentence_ids=['622511'], sentences=[]),\n",
       " Term(text='normalerweise', translation='normally', sentence_ids=['368788'], sentences=[]),\n",
       " Term(text='oft', translation='often', sentence_ids=['236457'], sentences=[]),\n",
       " Term(text='der Vormittag, die Vormittage', translation='morning; before noon', sentence_ids=['7580996'], sentences=[]),\n",
       " Term(text='wichtig', translation='important', sentence_ids=['8080381'], sentences=[]),\n",
       " Term(text='wissen', translation='to know', sentence_ids=['758482'], sentences=[]),\n",
       " Term(text='Zähne putzen', translation=\"to brush one's teeth\", sentence_ids=['601450'], sentences=[])]"
      ]
     },
     "execution_count": 88,
     "metadata": {},
     "output_type": "execute_result"
    }
   ],
   "source": [
    "terms"
   ]
  },
  {
   "cell_type": "code",
   "execution_count": null,
   "id": "d7953419-26d7-49bb-a982-77987baa9d9d",
   "metadata": {},
   "outputs": [],
   "source": []
  }
 ],
 "metadata": {
  "kernelspec": {
   "display_name": "tatoeba_de",
   "language": "python",
   "name": "python3"
  },
  "language_info": {
   "codemirror_mode": {
    "name": "ipython",
    "version": 3
   },
   "file_extension": ".py",
   "mimetype": "text/x-python",
   "name": "python",
   "nbconvert_exporter": "python",
   "pygments_lexer": "ipython3",
   "version": "3.12.8"
  }
 },
 "nbformat": 4,
 "nbformat_minor": 5
}
