{
 "cells": [
  {
   "cell_type": "code",
   "execution_count": 49,
   "id": "80fcb126-536f-49c1-ad1a-93121905ac16",
   "metadata": {},
   "outputs": [],
   "source": [
    "# need this import so Term and Sentence\n",
    "# can talk about each other\n",
    "from __future__ import annotations\n",
    "\n",
    "from typing import NamedTuple\n",
    "import csv\n",
    "import inspect\n",
    "import pprint"
   ]
  },
  {
   "cell_type": "markdown",
   "id": "62f9aa33-e4dd-49cc-8a80-9c200f8c12d3",
   "metadata": {},
   "source": [
    "## Define the `Term` and `Sentence` objects"
   ]
  },
  {
   "cell_type": "code",
   "execution_count": 45,
   "id": "f98a121a-39f8-4c42-8548-7d5c1431efd8",
   "metadata": {},
   "outputs": [],
   "source": [
    "class Term(NamedTuple):\n",
    "    \"\"\"This basically represents all the data needed\n",
    "    to generate an Anki flaschard for one word / phrase\n",
    "    in the target language\n",
    "    \"\"\"\n",
    "    text: str  # the word / phrase in the target language.\n",
    "    translation: str  # the English translation of the word / phrase.\n",
    "    sentence_ids: list[str]  # list of Tatoeba sentence ids for\n",
    "                             # the example sentences that go with this term.\n",
    "                             # This should maybe be a list of ints instead of strs.\n",
    "    sentences: list[Sentence]  # Objects representing the example sentences.\n",
    "\n",
    "# This being a named tuple is actually a problem\n",
    "# bc when it's initialized it doesn't have all of\n",
    "# its data. Like I want to add the audio id later\n",
    "# TODO: Make this a regular object\n",
    "class Sentence:\n",
    "    tatoeba_id: str  # Tatoeba sentence id for this sentence.\n",
    "                     # Should maybe be a str.\n",
    "    text: str  # The text of the sentence.\n",
    "    translations: list[str] | None  # English translations of this sentence.\n",
    "                                    # Not all sentences will have translations,\n",
    "                                    # so this value could be None.\n",
    "    audio_id: str | None  # Tatoeba audio id for this sentence. Not all\n",
    "                   # sentences will have audios. If there is no\n",
    "                   # audio, this will be None. This should maybe be an int.\n",
    "    parent_term: Term  # A reference to the vocab term that this sentence\n",
    "                       # serves as an example for. This is useful in the\n",
    "                       # data generation part.\n",
    "    \n",
    "    def __init__(self, tatoeba_id, text, parent_term):\n",
    "        self.tatoeba_id = tatoeba_id\n",
    "        self.text = text\n",
    "        self.parent_term = parent_term\n",
    "\n",
    "        self.translations = []\n",
    "        self.audio_id = None\n",
    "\n",
    "    def print(self):\n",
    "        #TODO\n",
    "        return"
   ]
  },
  {
   "cell_type": "code",
   "execution_count": 35,
   "id": "c319bfbf-2fd6-49db-b766-8860451e06d5",
   "metadata": {},
   "outputs": [],
   "source": [
    "def process_tsv(process_fn, filepath_str, encoding='utf-8-sig'):\n",
    "    \"\"\"Call ROW_FN on each row of a TSV file\"\"\"\n",
    "    with open(filepath_str, newline='', encoding=encoding) as f:\n",
    "        reader = csv.reader(f, delimiter='\\t')\n",
    "        return process_fn(reader)"
   ]
  },
  {
   "cell_type": "markdown",
   "id": "2bdb85d2-8cb7-47e6-aa9a-da610b277b2e",
   "metadata": {},
   "source": [
    "## Turn the vocab list `tsv` file into list of `Terms`"
   ]
  },
  {
   "cell_type": "code",
   "execution_count": 36,
   "id": "7b5ae747-7c9c-4e26-aecb-52a1f3e5207c",
   "metadata": {},
   "outputs": [],
   "source": [
    "def process_vocab_list(tsv_reader, skip_header=True):\n",
    "    terms = []\n",
    "    if skip_header:\n",
    "        header = next(tsv_reader)\n",
    "    for row in tsv_reader:\n",
    "        word_de, word_en = row[:2]\n",
    "        sentence_ids = [s for s in row[2:] if s]\n",
    "        one_term = Term(word_de, word_en, sentence_ids, [])\n",
    "        terms.append(one_term)\n",
    "    return terms"
   ]
  },
  {
   "cell_type": "code",
   "execution_count": 37,
   "id": "725c4b51-d3dd-4efb-aa49-bd288f7a6ad1",
   "metadata": {},
   "outputs": [],
   "source": [
    "vocab_list_file = './NW_7_Days-and-times - Tageszeiten.tsv'\n",
    "terms = process_tsv(process_vocab_list, vocab_list_file)"
   ]
  },
  {
   "cell_type": "code",
   "execution_count": 38,
   "id": "2e9279b0-2eee-47e7-a234-c273cb348c49",
   "metadata": {},
   "outputs": [
    {
     "data": {
      "text/plain": [
       "[Term(text='der Abend, die Abende', translation='evening', sentence_ids=['998'], sentences=[]),\n",
       " Term(text='das Abendessen, die Abendessen', translation='dinner', sentence_ids=['341418'], sentences=[]),\n",
       " Term(text='am Morgen', translation='in the morning', sentence_ids=['347433'], sentences=[]),\n",
       " Term(text='jemanden an|rufen', translation='to call someone', sentence_ids=['873078'], sentences=[]),\n",
       " Term(text='def Apfel, die Äpfel', translation='apple', sentence_ids=['367095'], sentences=[]),\n",
       " Term(text='etwas auf|räumen', translation='to clean up something; to tidy up something', sentence_ids=['618818'], sentences=[]),\n",
       " Term(text='aus|gehen', translation='to go out', sentence_ids=['882822'], sentences=[]),\n",
       " Term(text='auf|stehen', translation='to get up', sentence_ids=['365619'], sentences=[]),\n",
       " Term(text='etwas ein|kaufen', translation='to buy/shop for something', sentence_ids=['3567432'], sentences=[]),\n",
       " Term(text='fast immer', translation='almost always', sentence_ids=['2571282'], sentences=[]),\n",
       " Term(text='die Flöte, die Flöten', translation='flute', sentence_ids=['11932738'], sentences=[]),\n",
       " Term(text='das Frühstück, die Frühstücke', translation='breakfast', sentence_ids=['450713'], sentences=[]),\n",
       " Term(text='frühstücken', translation='to eat breakfast', sentence_ids=['470147'], sentences=[]),\n",
       " Term(text='das Gemüse', translation='vegetables', sentence_ids=['8320425'], sentences=[]),\n",
       " Term(text='jeden Tag', translation='every day', sentence_ids=['784324'], sentences=[]),\n",
       " Term(text='manchmal', translation='sometimes', sentence_ids=['917600'], sentences=[]),\n",
       " Term(text='meistens', translation='most of the time', sentence_ids=['365619'], sentences=[]),\n",
       " Term(text='das Mittagessen, die Mittagessen', translation='lunch', sentence_ids=['10513933'], sentences=[]),\n",
       " Term(text='der Morgen, die Morgen', translation='morning', sentence_ids=['1012'], sentences=[]),\n",
       " Term(text='das Müsli, die Müslis', translation='granola', sentence_ids=['10919429'], sentences=[]),\n",
       " Term(text='der Nachmittag, die Nachmittage', translation='afternoon', sentence_ids=['989712', '1807249'], sentences=[]),\n",
       " Term(text='die Nacht, die Näche', translation='night', sentence_ids=['445863'], sentences=[]),\n",
       " Term(text='nie', translation='never', sentence_ids=['622511'], sentences=[]),\n",
       " Term(text='normalerweise', translation='normally', sentence_ids=['368788'], sentences=[]),\n",
       " Term(text='oft', translation='often', sentence_ids=['236457'], sentences=[]),\n",
       " Term(text='der Vormittag, die Vormittage', translation='morning; before noon', sentence_ids=['7580996'], sentences=[]),\n",
       " Term(text='wichtig', translation='important', sentence_ids=['8080381'], sentences=[]),\n",
       " Term(text='wissen', translation='to know', sentence_ids=['758482'], sentences=[]),\n",
       " Term(text='Zähne putzen', translation=\"to brush one's teeth\", sentence_ids=['601450'], sentences=[])]"
      ]
     },
     "execution_count": 38,
     "metadata": {},
     "output_type": "execute_result"
    }
   ],
   "source": [
    "terms"
   ]
  },
  {
   "cell_type": "markdown",
   "id": "f366c2e7-32b9-4480-884c-a8b5fed1823b",
   "metadata": {},
   "source": [
    "## Now add the sentence data to the `Terms`"
   ]
  },
  {
   "cell_type": "code",
   "execution_count": 39,
   "id": "d7953419-26d7-49bb-a982-77987baa9d9d",
   "metadata": {},
   "outputs": [],
   "source": [
    "def add_sentences(tsvreader, terms, validate=True):\n",
    "    term_by_id = {}\n",
    "    for t in terms:\n",
    "        for sentence_id in t.sentence_ids:\n",
    "            term_by_id[sentence_id] = t\n",
    "    for row in tsvreader:\n",
    "        sentence_id, text = row[0], row[2]\n",
    "        if sentence_id in term_by_id:\n",
    "            term = term_by_id[sentence_id]\n",
    "            sentence = Sentence(sentence_id, text, term)\n",
    "            term.sentences.append(sentence)\n",
    "    if validate:\n",
    "        for t in terms:\n",
    "            for s in t.sentences:\n",
    "                assert s.tatoeba_id\n",
    "                assert s.tatoeba_id in t.sentence_ids\n",
    "                assert s.text\n",
    "    return"
   ]
  },
  {
   "cell_type": "code",
   "execution_count": 40,
   "id": "c4f65a70-edd3-467c-b493-b9676c123555",
   "metadata": {},
   "outputs": [],
   "source": [
    "sentences_file = 'deu_sentences.tsv'"
   ]
  },
  {
   "cell_type": "code",
   "execution_count": 41,
   "id": "0e37d418-4b3c-4aee-a7ab-5d45a4194a01",
   "metadata": {},
   "outputs": [],
   "source": [
    "process_tsv(lambda x: add_sentences(x, terms, True), sentences_file)"
   ]
  },
  {
   "cell_type": "code",
   "execution_count": 42,
   "id": "b6f64130-ce74-4fea-9444-a3e1b86b64b3",
   "metadata": {
    "scrolled": true
   },
   "outputs": [
    {
     "data": {
      "text/plain": [
       "[Term(text='der Abend, die Abende', translation='evening', sentence_ids=['998'], sentences=[<__main__.Sentence object at 0x0000026F701062D0>]),\n",
       " Term(text='das Abendessen, die Abendessen', translation='dinner', sentence_ids=['341418'], sentences=[<__main__.Sentence object at 0x0000026F6FF58BF0>]),\n",
       " Term(text='am Morgen', translation='in the morning', sentence_ids=['347433'], sentences=[<__main__.Sentence object at 0x0000026F70107200>]),\n",
       " Term(text='jemanden an|rufen', translation='to call someone', sentence_ids=['873078'], sentences=[<__main__.Sentence object at 0x0000026F70108140>]),\n",
       " Term(text='def Apfel, die Äpfel', translation='apple', sentence_ids=['367095'], sentences=[<__main__.Sentence object at 0x0000026F70082420>]),\n",
       " Term(text='etwas auf|räumen', translation='to clean up something; to tidy up something', sentence_ids=['618818'], sentences=[<__main__.Sentence object at 0x0000026F701082F0>]),\n",
       " Term(text='aus|gehen', translation='to go out', sentence_ids=['882822'], sentences=[<__main__.Sentence object at 0x0000026F70108B30>]),\n",
       " Term(text='auf|stehen', translation='to get up', sentence_ids=['365619'], sentences=[]),\n",
       " Term(text='etwas ein|kaufen', translation='to buy/shop for something', sentence_ids=['3567432'], sentences=[<__main__.Sentence object at 0x0000026F70108BF0>]),\n",
       " Term(text='fast immer', translation='almost always', sentence_ids=['2571282'], sentences=[<__main__.Sentence object at 0x0000026F70108170>]),\n",
       " Term(text='die Flöte, die Flöten', translation='flute', sentence_ids=['11932738'], sentences=[<__main__.Sentence object at 0x0000026F70108440>]),\n",
       " Term(text='das Frühstück, die Frühstücke', translation='breakfast', sentence_ids=['450713'], sentences=[<__main__.Sentence object at 0x0000026F70108380>]),\n",
       " Term(text='frühstücken', translation='to eat breakfast', sentence_ids=['470147'], sentences=[<__main__.Sentence object at 0x0000026F701080B0>]),\n",
       " Term(text='das Gemüse', translation='vegetables', sentence_ids=['8320425'], sentences=[<__main__.Sentence object at 0x0000026F70108050>]),\n",
       " Term(text='jeden Tag', translation='every day', sentence_ids=['784324'], sentences=[<__main__.Sentence object at 0x0000026F70108650>]),\n",
       " Term(text='manchmal', translation='sometimes', sentence_ids=['917600'], sentences=[<__main__.Sentence object at 0x0000026F70108290>]),\n",
       " Term(text='meistens', translation='most of the time', sentence_ids=['365619'], sentences=[<__main__.Sentence object at 0x0000026F701045F0>]),\n",
       " Term(text='das Mittagessen, die Mittagessen', translation='lunch', sentence_ids=['10513933'], sentences=[<__main__.Sentence object at 0x0000026F70108920>]),\n",
       " Term(text='der Morgen, die Morgen', translation='morning', sentence_ids=['1012'], sentences=[<__main__.Sentence object at 0x0000026F70104530>]),\n",
       " Term(text='das Müsli, die Müslis', translation='granola', sentence_ids=['10919429'], sentences=[<__main__.Sentence object at 0x0000026F70108C20>]),\n",
       " Term(text='der Nachmittag, die Nachmittage', translation='afternoon', sentence_ids=['989712', '1807249'], sentences=[<__main__.Sentence object at 0x0000026F70108680>, <__main__.Sentence object at 0x0000026F701080E0>]),\n",
       " Term(text='die Nacht, die Näche', translation='night', sentence_ids=['445863'], sentences=[<__main__.Sentence object at 0x0000026F70108CB0>]),\n",
       " Term(text='nie', translation='never', sentence_ids=['622511'], sentences=[<__main__.Sentence object at 0x0000026F701086B0>]),\n",
       " Term(text='normalerweise', translation='normally', sentence_ids=['368788'], sentences=[<__main__.Sentence object at 0x0000026F70096420>]),\n",
       " Term(text='oft', translation='often', sentence_ids=['236457'], sentences=[<__main__.Sentence object at 0x0000026F70107C80>]),\n",
       " Term(text='der Vormittag, die Vormittage', translation='morning; before noon', sentence_ids=['7580996'], sentences=[<__main__.Sentence object at 0x0000026F70108080>]),\n",
       " Term(text='wichtig', translation='important', sentence_ids=['8080381'], sentences=[<__main__.Sentence object at 0x0000026F70108A10>]),\n",
       " Term(text='wissen', translation='to know', sentence_ids=['758482'], sentences=[<__main__.Sentence object at 0x0000026F70108470>]),\n",
       " Term(text='Zähne putzen', translation=\"to brush one's teeth\", sentence_ids=['601450'], sentences=[<__main__.Sentence object at 0x0000026F70108320>])]"
      ]
     },
     "execution_count": 42,
     "metadata": {},
     "output_type": "execute_result"
    }
   ],
   "source": [
    "terms"
   ]
  },
  {
   "cell_type": "markdown",
   "id": "bfebc642-a7c3-42dc-a113-2bf0253bd017",
   "metadata": {},
   "source": [
    "## Add translation data to the `Terms`\n",
    "Provided that there is translation data"
   ]
  },
  {
   "cell_type": "code",
   "execution_count": 46,
   "id": "dd7cd059-7a3b-463c-97e9-536a33083ec0",
   "metadata": {},
   "outputs": [],
   "source": [
    "def add_translations(tsvreader, terms, limit=3):\n",
    "    sentence_by_id = {}\n",
    "    for t in terms:\n",
    "        for s in t.sentences:\n",
    "            sentence_by_id[s.tatoeba_id] = s\n",
    "    for row in tsvreader:\n",
    "        sentence_id = row[0]\n",
    "        translation = row[3]\n",
    "        if sentence_id in sentence_by_id:\n",
    "            s = sentence_by_id[sentence_id]\n",
    "            if len(s.translations) < limit:\n",
    "                s.translations.append(translation)\n",
    "    return"
   ]
  },
  {
   "cell_type": "code",
   "execution_count": 47,
   "id": "c20499a1-5856-4287-b1b9-51568c688c1d",
   "metadata": {},
   "outputs": [],
   "source": [
    "translations_file = 'Sentence pairs in German-English - 2024-12-13.tsv'"
   ]
  },
  {
   "cell_type": "code",
   "execution_count": 48,
   "id": "4ba7e613-dcfc-4feb-9f3a-66f52106476d",
   "metadata": {},
   "outputs": [],
   "source": [
    "process_tsv(lambda x: add_translations(x, terms), translations_file)"
   ]
  },
  {
   "cell_type": "markdown",
   "id": "a83e75a0-2b96-419a-9de1-1fd8f5db346d",
   "metadata": {},
   "source": [
    "## Add audio data to the `Terms`"
   ]
  },
  {
   "cell_type": "code",
   "execution_count": 59,
   "id": "14dc1df6-34ef-499b-9952-e52c57750947",
   "metadata": {},
   "outputs": [],
   "source": [
    "def add_audio_ids(tsvreader, terms):\n",
    "    sentence_by_id = {}\n",
    "    for t in terms:\n",
    "        for s in t.sentences:\n",
    "            sentence_by_id[s.tatoeba_id] = s\n",
    "    for row in tsvreader:\n",
    "        sentence_id = row[0]\n",
    "        audio_id = row[1]\n",
    "        if sentence_id in sentence_by_id:\n",
    "            s = sentence_by_id[sentence_id]\n",
    "            s.audio_id = audio_id\n",
    "            # Delete the key in case the data file\n",
    "            # has multiple audio ids for this sentence\n",
    "            sentence_by_id.pop(sentence_id)\n",
    "    return"
   ]
  },
  {
   "cell_type": "code",
   "execution_count": 60,
   "id": "3be0b522-9601-4721-bc6e-bda99083a19f",
   "metadata": {},
   "outputs": [],
   "source": [
    "audio_id_file = 'sentences_with_audio.csv'"
   ]
  },
  {
   "cell_type": "code",
   "execution_count": 61,
   "id": "c0a5b5e4-bbb0-4466-8925-d479eccfec4e",
   "metadata": {},
   "outputs": [],
   "source": [
    "process_tsv(lambda x: add_audio_ids(x, terms), audio_id_file)"
   ]
  },
  {
   "cell_type": "code",
   "execution_count": 62,
   "id": "a3566892-1881-4d14-bf20-c858a325371a",
   "metadata": {},
   "outputs": [
    {
     "data": {
      "text/plain": [
       "'634'"
      ]
     },
     "execution_count": 62,
     "metadata": {},
     "output_type": "execute_result"
    }
   ],
   "source": [
    "terms[0].sentences[0].audio_id"
   ]
  },
  {
   "cell_type": "code",
   "execution_count": null,
   "id": "0e8e9eee-de13-49f0-851c-dce588dffc78",
   "metadata": {},
   "outputs": [],
   "source": []
  }
 ],
 "metadata": {
  "kernelspec": {
   "display_name": "tatoeba_de",
   "language": "python",
   "name": "python3"
  },
  "language_info": {
   "codemirror_mode": {
    "name": "ipython",
    "version": 3
   },
   "file_extension": ".py",
   "mimetype": "text/x-python",
   "name": "python",
   "nbconvert_exporter": "python",
   "pygments_lexer": "ipython3",
   "version": "3.12.8"
  }
 },
 "nbformat": 4,
 "nbformat_minor": 5
}
